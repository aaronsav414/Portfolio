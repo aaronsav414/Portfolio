{
 "cells": [
  {
   "cell_type": "code",
   "execution_count": 1,
   "id": "1c00d141-462e-4e10-9d29-fad82d97e3d3",
   "metadata": {},
   "outputs": [],
   "source": [
    "import numpy as np\n",
    "import torch\n",
    "import matplotlib.pyplot as plt"
   ]
  },
  {
   "cell_type": "code",
   "execution_count": 2,
   "id": "85387902-3f47-4eb8-b51f-6d00edb2d7d4",
   "metadata": {},
   "outputs": [
    {
     "data": {
      "text/plain": [
       "tensor([[25.,  2., -5.],\n",
       "        [ 3., -2.,  1.],\n",
       "        [ 5.,  7.,  4.]])"
      ]
     },
     "execution_count": 2,
     "metadata": {},
     "output_type": "execute_result"
    }
   ],
   "source": [
    "P = torch.tensor([[25, 2, -5], [3, -2, 1], [5, 7, 4.]])\n",
    "P"
   ]
  },
  {
   "cell_type": "code",
   "execution_count": 7,
   "id": "2d718271-22e0-409c-88fb-9682de6ab3e4",
   "metadata": {},
   "outputs": [
    {
     "data": {
      "text/plain": [
       "array([[-0.9511379 ,  0.23863211,  0.1625802 ],\n",
       "       [-0.12176309,  0.1923954 , -0.7705417 ],\n",
       "       [-0.28374356,  0.95186067,  0.616306  ]], dtype=float32)"
      ]
     },
     "execution_count": 7,
     "metadata": {},
     "output_type": "execute_result"
    }
   ],
   "source": [
    "lambdas, V = np.linalg.eig(P)\n",
    "V"
   ]
  },
  {
   "cell_type": "code",
   "execution_count": 9,
   "id": "8632c0b5-12f2-4b2d-8129-18d496918e7d",
   "metadata": {},
   "outputs": [],
   "source": [
    "Lambdas = np.diag(lambdas)"
   ]
  },
  {
   "cell_type": "code",
   "execution_count": 10,
   "id": "8161f02b-5a66-4abf-8cfe-195cf7e019e3",
   "metadata": {},
   "outputs": [],
   "source": [
    "Vinv = np.linalg.inv(V)"
   ]
  },
  {
   "cell_type": "code",
   "execution_count": 11,
   "id": "0c6b09bb-72d2-4f64-b7ad-41419b05d27e",
   "metadata": {},
   "outputs": [
    {
     "data": {
      "text/plain": [
       "array([[25.000002 ,  2.       , -5.0000005],\n",
       "       [ 3.0000002, -2.       ,  1.       ],\n",
       "       [ 5.0000005,  7.0000005,  4.000001 ]], dtype=float32)"
      ]
     },
     "execution_count": 11,
     "metadata": {},
     "output_type": "execute_result"
    }
   ],
   "source": [
    "np.dot(V, np.dot(Lambdas, Vinv))"
   ]
  },
  {
   "cell_type": "code",
   "execution_count": 12,
   "id": "2996e5f9-16e0-47e3-b565-5482bf14468c",
   "metadata": {},
   "outputs": [
    {
     "data": {
      "text/plain": [
       "tensor([[25.,  2., -5.],\n",
       "        [ 2., -2.,  1.],\n",
       "        [-5.,  1.,  4.]])"
      ]
     },
     "execution_count": 12,
     "metadata": {},
     "output_type": "execute_result"
    }
   ],
   "source": [
    "S = torch.tensor([[25, 2, -5], [2, -2, 1], [-5, 1, 4.]])\n",
    "S"
   ]
  },
  {
   "cell_type": "code",
   "execution_count": 13,
   "id": "af8af0ba-140c-47e7-8e23-854c82851709",
   "metadata": {},
   "outputs": [],
   "source": [
    "lambdas, Q = np.linalg.eig(S)"
   ]
  },
  {
   "cell_type": "code",
   "execution_count": 17,
   "id": "1128763f-0711-4ab2-b6bb-be72bbc3b6fe",
   "metadata": {},
   "outputs": [],
   "source": [
    "Lambdas = np.diag(lambdas)"
   ]
  },
  {
   "cell_type": "code",
   "execution_count": 18,
   "id": "2aad24d6-e6cc-4163-bff7-bee26bf6a72a",
   "metadata": {},
   "outputs": [
    {
     "data": {
      "text/plain": [
       "array([[25.000002 ,  2.       , -4.9999995],\n",
       "       [ 2.       , -2.       ,  1.0000001],\n",
       "       [-5.       ,  1.       ,  4.       ]], dtype=float32)"
      ]
     },
     "execution_count": 18,
     "metadata": {},
     "output_type": "execute_result"
    }
   ],
   "source": [
    "np.dot(Q, np.dot(Lambdas, Q.T))"
   ]
  },
  {
   "cell_type": "code",
   "execution_count": null,
   "id": "2ed8cc62-d7fe-49d1-a50f-6218a372262d",
   "metadata": {},
   "outputs": [],
   "source": []
  }
 ],
 "metadata": {
  "kernelspec": {
   "display_name": "Python 3",
   "language": "python",
   "name": "python3"
  },
  "language_info": {
   "codemirror_mode": {
    "name": "ipython",
    "version": 3
   },
   "file_extension": ".py",
   "mimetype": "text/x-python",
   "name": "python",
   "nbconvert_exporter": "python",
   "pygments_lexer": "ipython3",
   "version": "3.8.8"
  }
 },
 "nbformat": 4,
 "nbformat_minor": 5
}
