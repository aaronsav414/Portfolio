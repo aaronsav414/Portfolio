{
 "cells": [
  {
   "cell_type": "code",
   "execution_count": 30,
   "id": "ec75afdf-edad-462d-b118-c6a1ebc1afcf",
   "metadata": {},
   "outputs": [],
   "source": [
    "import numpy as np\n",
    "import torch\n",
    "import matplotlib.pyplot as plt\n",
    "from scipy.linalg import sqrtm"
   ]
  },
  {
   "cell_type": "code",
   "execution_count": 15,
   "id": "e972475c-7d29-4785-a1ed-cf2df6c46d88",
   "metadata": {},
   "outputs": [
    {
     "data": {
      "text/plain": [
       "tensor([[25.,  2., -5.],\n",
       "        [ 3., -2.,  1.],\n",
       "        [ 5.,  7.,  4.]])"
      ]
     },
     "execution_count": 15,
     "metadata": {},
     "output_type": "execute_result"
    }
   ],
   "source": [
    "P = torch.tensor([[25, 2, -5], [3, -2, 1], [5, 7, 4.]])\n",
    "P"
   ]
  },
  {
   "cell_type": "markdown",
   "id": "414db3d1-7acc-4e2f-ad5f-84cb1eb46a03",
   "metadata": {},
   "source": [
    "SVD and eigendecomposition are closely related to each other: \n",
    "\n",
    "* Left-singular vectors of $A$ = eigenvectors of $AA^T$.\n",
    "* Right-singular vectors of $A$ = eigenvectors of $A^TA$.\n",
    "* Non-zero singular values of $A$ = square roots of eigenvalues of $AA^T$ = square roots of eigenvalues of $A^TA$\n",
    "\n",
    "**Exercise**: Using the matrix `P` from the preceding PyTorch exercises, demonstrate that these three SVD-eigendecomposition equations are true. "
   ]
  },
  {
   "cell_type": "markdown",
   "id": "0641a5dd",
   "metadata": {},
   "source": [
    "As on slides, SVD of matrix 𝐴 is:\n",
    "\n",
    "𝐴=𝑈𝐷𝑉𝑇\n",
    "\n",
    "Where:\n",
    "\n",
    "𝑈 is an orthogonal 𝑚×𝑚 matrix; its columns are the left-singular vectors of 𝐴.\n",
    "\n",
    "𝑉 is an orthogonal 𝑛×𝑛 matrix; its columns are the right-singular vectors of 𝐴.\n",
    "\n",
    "𝐷 is a diagonal 𝑚×𝑛 matrix; elements along its diagonal are the singular values of 𝐴."
   ]
  },
  {
   "cell_type": "code",
   "execution_count": 16,
   "id": "d1d0c75c-fa9f-461b-97e9-77b01e75891a",
   "metadata": {},
   "outputs": [
    {
     "data": {
      "text/plain": [
       "tensor([[25.,  2., -5.],\n",
       "        [ 3., -2.,  1.],\n",
       "        [ 5.,  7.,  4.]])"
      ]
     },
     "execution_count": 16,
     "metadata": {},
     "output_type": "execute_result"
    }
   ],
   "source": [
    "P"
   ]
  },
  {
   "cell_type": "code",
   "execution_count": 17,
   "id": "98bead13-5bf9-48dc-94e5-5dd6da917322",
   "metadata": {},
   "outputs": [],
   "source": [
    "U, d, VT = np.linalg.svd(P)"
   ]
  },
  {
   "cell_type": "code",
   "execution_count": 18,
   "id": "f1ff20ba-c78f-4010-8929-4a73b8622779",
   "metadata": {},
   "outputs": [
    {
     "data": {
      "text/plain": [
       "array([[-0.9757195 , -0.1822729 , -0.1214413 ],\n",
       "       [-0.09750433, -0.1350092 ,  0.9860352 ],\n",
       "       [-0.19612318,  0.9739348 ,  0.11395871]], dtype=float32)"
      ]
     },
     "execution_count": 18,
     "metadata": {},
     "output_type": "execute_result"
    }
   ],
   "source": [
    "U"
   ]
  },
  {
   "cell_type": "code",
   "execution_count": 19,
   "id": "cdb8ff83-28f1-4d35-8091-135f20c11859",
   "metadata": {},
   "outputs": [
    {
     "data": {
      "text/plain": [
       "array([26.163235,  8.187547,  2.539532], dtype=float32)"
      ]
     },
     "execution_count": 19,
     "metadata": {},
     "output_type": "execute_result"
    }
   ],
   "source": [
    "d"
   ]
  },
  {
   "cell_type": "code",
   "execution_count": 20,
   "id": "a51ff5e8-918f-4a06-8bc6-1dcd631da76a",
   "metadata": {},
   "outputs": [
    {
     "data": {
      "text/plain": [
       "array([[-0.98099935, -0.11960649,  0.15275636],\n",
       "       [-0.01125803,  0.8211271 ,  0.5706343 ],\n",
       "       [ 0.19368395, -0.55807215,  0.8068718 ]], dtype=float32)"
      ]
     },
     "execution_count": 20,
     "metadata": {},
     "output_type": "execute_result"
    }
   ],
   "source": [
    "VT"
   ]
  },
  {
   "cell_type": "code",
   "execution_count": 21,
   "id": "4b7e2f2b-4a2e-49dc-af76-8639bd5d55ef",
   "metadata": {},
   "outputs": [
    {
     "data": {
      "text/plain": [
       "array([[26.163235,  0.      ,  0.      ],\n",
       "       [ 0.      ,  8.187547,  0.      ],\n",
       "       [ 0.      ,  0.      ,  2.539532]], dtype=float32)"
      ]
     },
     "execution_count": 21,
     "metadata": {},
     "output_type": "execute_result"
    }
   ],
   "source": [
    "D = np.diag(d)\n",
    "D"
   ]
  },
  {
   "cell_type": "code",
   "execution_count": 60,
   "id": "5c55b629-f8d4-400d-8587-4af31abd5ede",
   "metadata": {},
   "outputs": [
    {
     "data": {
      "text/plain": [
       "array([[654.,  66., 119.],\n",
       "       [ 66.,  14.,   5.],\n",
       "       [119.,   5.,  90.]], dtype=float32)"
      ]
     },
     "execution_count": 60,
     "metadata": {},
     "output_type": "execute_result"
    }
   ],
   "source": [
    "PPT = np.dot(P, P.T)\n",
    "PPT"
   ]
  },
  {
   "cell_type": "code",
   "execution_count": 61,
   "id": "7180174b-7a8e-4201-a774-3ad04e8c50df",
   "metadata": {},
   "outputs": [
    {
     "data": {
      "text/plain": [
       "array([684.51483  ,  67.03592  ,   6.4492226], dtype=float32)"
      ]
     },
     "execution_count": 61,
     "metadata": {},
     "output_type": "execute_result"
    }
   ],
   "source": [
    "eig = np.linalg.eigvals(PPT)\n",
    "eig"
   ]
  },
  {
   "cell_type": "code",
   "execution_count": 62,
   "id": "ab70b270-84e4-48fb-82da-65f46bc9ab9f",
   "metadata": {},
   "outputs": [
    {
     "data": {
      "text/plain": [
       "array([26.163235,  8.187547,  2.539532], dtype=float32)"
      ]
     },
     "execution_count": 62,
     "metadata": {},
     "output_type": "execute_result"
    }
   ],
   "source": [
    "np.sqrt(eig)"
   ]
  },
  {
   "cell_type": "code",
   "execution_count": null,
   "id": "6058a7df-aaea-4d0d-9b2c-05e28f657f4f",
   "metadata": {},
   "outputs": [],
   "source": []
  },
  {
   "cell_type": "code",
   "execution_count": null,
   "id": "b73d0508",
   "metadata": {
    "scrolled": true
   },
   "outputs": [],
   "source": []
  },
  {
   "cell_type": "code",
   "execution_count": null,
   "id": "fe652689",
   "metadata": {},
   "outputs": [],
   "source": []
  },
  {
   "cell_type": "code",
   "execution_count": null,
   "id": "527ff44c",
   "metadata": {},
   "outputs": [],
   "source": []
  },
  {
   "cell_type": "code",
   "execution_count": null,
   "id": "e377e38c",
   "metadata": {},
   "outputs": [],
   "source": []
  },
  {
   "cell_type": "code",
   "execution_count": null,
   "id": "56478d9f",
   "metadata": {},
   "outputs": [],
   "source": []
  }
 ],
 "metadata": {
  "kernelspec": {
   "display_name": "Python 3",
   "language": "python",
   "name": "python3"
  },
  "language_info": {
   "codemirror_mode": {
    "name": "ipython",
    "version": 3
   },
   "file_extension": ".py",
   "mimetype": "text/x-python",
   "name": "python",
   "nbconvert_exporter": "python",
   "pygments_lexer": "ipython3",
   "version": "3.8.8"
  }
 },
 "nbformat": 4,
 "nbformat_minor": 5
}
