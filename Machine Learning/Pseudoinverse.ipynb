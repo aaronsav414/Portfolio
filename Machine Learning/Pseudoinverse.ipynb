{
 "cells": [
  {
   "cell_type": "code",
   "execution_count": 3,
   "id": "8dbbf466",
   "metadata": {},
   "outputs": [],
   "source": [
    "import numpy as np\n",
    "import torch\n",
    "import matplotlib.pyplot as plt"
   ]
  },
  {
   "cell_type": "markdown",
   "id": "252b2d73",
   "metadata": {},
   "source": [
    "Let's calculate the pseudoinverse 𝐴+ of some matrix 𝐴 using the formula from the slides:\n",
    "\n",
    "𝐴+=𝑉𝐷+𝑈𝑇"
   ]
  },
  {
   "cell_type": "code",
   "execution_count": 4,
   "id": "9d96e98a",
   "metadata": {},
   "outputs": [
    {
     "data": {
      "text/plain": [
       "tensor([[-1.,  2.],\n",
       "        [ 3., -2.],\n",
       "        [ 5.,  7.]])"
      ]
     },
     "execution_count": 4,
     "metadata": {},
     "output_type": "execute_result"
    }
   ],
   "source": [
    "A_p = torch.tensor([[-1, 2], [3, -2], [5, 7.]])\n",
    "A_p"
   ]
  },
  {
   "cell_type": "code",
   "execution_count": 5,
   "id": "e21284eb",
   "metadata": {},
   "outputs": [],
   "source": [
    "U, d, VT = np.linalg.svd(A_p)"
   ]
  },
  {
   "cell_type": "code",
   "execution_count": 6,
   "id": "fcb68456",
   "metadata": {},
   "outputs": [
    {
     "data": {
      "text/plain": [
       "array([[ 0.12708324,  0.47409505,  0.8712541 ],\n",
       "       [ 0.00164602, -0.87847555,  0.4777845 ],\n",
       "       [ 0.99189067, -0.0592843 , -0.11241989]], dtype=float32)"
      ]
     },
     "execution_count": 6,
     "metadata": {},
     "output_type": "execute_result"
    }
   ],
   "source": [
    "U"
   ]
  },
  {
   "cell_type": "code",
   "execution_count": 7,
   "id": "243195e7",
   "metadata": {},
   "outputs": [
    {
     "data": {
      "text/plain": [
       "array([8.669185 , 4.1042953], dtype=float32)"
      ]
     },
     "execution_count": 7,
     "metadata": {},
     "output_type": "execute_result"
    }
   ],
   "source": [
    "d"
   ]
  },
  {
   "cell_type": "code",
   "execution_count": 8,
   "id": "d09ad5af",
   "metadata": {},
   "outputs": [
    {
     "data": {
      "text/plain": [
       "array([[ 0.5579888 ,  0.82984847],\n",
       "       [-0.82984847,  0.5579888 ]], dtype=float32)"
      ]
     },
     "execution_count": 8,
     "metadata": {},
     "output_type": "execute_result"
    }
   ],
   "source": [
    "VT"
   ]
  },
  {
   "cell_type": "code",
   "execution_count": 14,
   "id": "b76d234c",
   "metadata": {},
   "outputs": [
    {
     "data": {
      "text/plain": [
       "array([[8.669185 , 0.       ],\n",
       "       [0.       , 4.1042953]], dtype=float32)"
      ]
     },
     "execution_count": 14,
     "metadata": {},
     "output_type": "execute_result"
    }
   ],
   "source": [
    "D = np.diag(d)\n",
    "D"
   ]
  },
  {
   "cell_type": "code",
   "execution_count": 15,
   "id": "326d7b74",
   "metadata": {},
   "outputs": [],
   "source": [
    "Dinv = np.linalg.inv(D)"
   ]
  },
  {
   "cell_type": "code",
   "execution_count": 16,
   "id": "79330ec2",
   "metadata": {},
   "outputs": [
    {
     "data": {
      "text/plain": [
       "array([[0.1153511 , 0.        ],\n",
       "       [0.        , 0.24364719]], dtype=float32)"
      ]
     },
     "execution_count": 16,
     "metadata": {},
     "output_type": "execute_result"
    }
   ],
   "source": [
    "Dinv"
   ]
  },
  {
   "cell_type": "code",
   "execution_count": 22,
   "id": "ea402b91",
   "metadata": {},
   "outputs": [
    {
     "data": {
      "text/plain": [
       "array([[0.1153511 , 0.        , 0.        ],\n",
       "       [0.        , 0.24364719, 0.        ]])"
      ]
     },
     "execution_count": 22,
     "metadata": {},
     "output_type": "execute_result"
    }
   ],
   "source": [
    "Dplus = np.concatenate((Dinv, np.array([[0, 0]]).T), axis=1)\n",
    "Dplus"
   ]
  },
  {
   "cell_type": "code",
   "execution_count": 27,
   "id": "61ad67d5",
   "metadata": {},
   "outputs": [
    {
     "data": {
      "text/plain": [
       "array([[-0.08767773,  0.17772513,  0.07582938],\n",
       "       [ 0.07661927, -0.1192733 ,  0.08688784]])"
      ]
     },
     "execution_count": 27,
     "metadata": {},
     "output_type": "execute_result"
    }
   ],
   "source": [
    "PSUDO = np.dot(VT.T, np.dot(Dplus, U.T))\n",
    "PSUDO"
   ]
  },
  {
   "cell_type": "code",
   "execution_count": 28,
   "id": "5ae27d3a",
   "metadata": {},
   "outputs": [
    {
     "data": {
      "text/plain": [
       "tensor([[-0.0877,  0.1777,  0.0758],\n",
       "        [ 0.0766, -0.1193,  0.0869]])"
      ]
     },
     "execution_count": 28,
     "metadata": {},
     "output_type": "execute_result"
    }
   ],
   "source": [
    "torch.pinverse(A_p)"
   ]
  },
  {
   "cell_type": "code",
   "execution_count": null,
   "id": "1b821d0a",
   "metadata": {},
   "outputs": [],
   "source": []
  }
 ],
 "metadata": {
  "kernelspec": {
   "display_name": "Python 3 (ipykernel)",
   "language": "python",
   "name": "python3"
  },
  "language_info": {
   "codemirror_mode": {
    "name": "ipython",
    "version": 3
   },
   "file_extension": ".py",
   "mimetype": "text/x-python",
   "name": "python",
   "nbconvert_exporter": "python",
   "pygments_lexer": "ipython3",
   "version": "3.10.9"
  }
 },
 "nbformat": 4,
 "nbformat_minor": 5
}
