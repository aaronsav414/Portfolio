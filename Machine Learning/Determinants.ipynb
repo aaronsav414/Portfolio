{
 "cells": [
  {
   "cell_type": "code",
   "execution_count": 1,
   "id": "59c544c1-ab85-4978-a2cb-ef8856492127",
   "metadata": {},
   "outputs": [],
   "source": [
    "import numpy as np\n",
    "import torch\n",
    "import matplotlib.pyplot as plt"
   ]
  },
  {
   "cell_type": "code",
   "execution_count": 2,
   "id": "ca2189f5-1afa-4c94-848b-a4c0ec9def67",
   "metadata": {},
   "outputs": [
    {
     "data": {
      "text/plain": [
       "array([[ 4,  2],\n",
       "       [-5, -3]])"
      ]
     },
     "execution_count": 2,
     "metadata": {},
     "output_type": "execute_result"
    }
   ],
   "source": [
    "X = np.array([[4, 2], [-5, -3]])\n",
    "X"
   ]
  },
  {
   "cell_type": "code",
   "execution_count": 3,
   "id": "8846c2b1-2cee-4a28-8fc6-03a6d1a1e1e9",
   "metadata": {},
   "outputs": [
    {
     "data": {
      "text/plain": [
       "-2.0000000000000004"
      ]
     },
     "execution_count": 3,
     "metadata": {},
     "output_type": "execute_result"
    }
   ],
   "source": [
    "np.linalg.det(X)"
   ]
  },
  {
   "cell_type": "code",
   "execution_count": 5,
   "id": "6be0400c-b61b-4ada-83ca-db92829ddde9",
   "metadata": {},
   "outputs": [],
   "source": [
    "N = np.array([[-4, 1], [-8, 2]])"
   ]
  },
  {
   "cell_type": "code",
   "execution_count": 6,
   "id": "99c43632-fe28-4b6d-a7c3-66de9f6133c5",
   "metadata": {},
   "outputs": [
    {
     "data": {
      "text/plain": [
       "0.0"
      ]
     },
     "execution_count": 6,
     "metadata": {},
     "output_type": "execute_result"
    }
   ],
   "source": [
    "np.linalg.det(N)"
   ]
  },
  {
   "cell_type": "code",
   "execution_count": 7,
   "id": "cac52779-5898-4fe0-af08-176fc111408c",
   "metadata": {},
   "outputs": [],
   "source": [
    "# Uncommenting the following line results in a \"singular matrix\" error\n",
    "# Ninv = np.linalg.inv(N)"
   ]
  },
  {
   "cell_type": "code",
   "execution_count": 10,
   "id": "2cb2a686-79a3-4c74-a890-5c5a566be6ec",
   "metadata": {},
   "outputs": [],
   "source": [
    "N = torch.tensor([[-4, 1], [-8, 2.]])"
   ]
  },
  {
   "cell_type": "code",
   "execution_count": 11,
   "id": "983f1011-3240-45a1-9ac3-c5ed6ae9dcf8",
   "metadata": {},
   "outputs": [
    {
     "data": {
      "text/plain": [
       "tensor(-0.)"
      ]
     },
     "execution_count": 11,
     "metadata": {},
     "output_type": "execute_result"
    }
   ],
   "source": [
    "torch.det(N)"
   ]
  },
  {
   "cell_type": "code",
   "execution_count": null,
   "id": "20133df4-f086-499b-a2db-053c36004332",
   "metadata": {},
   "outputs": [],
   "source": []
  }
 ],
 "metadata": {
  "kernelspec": {
   "display_name": "Python 3",
   "language": "python",
   "name": "python3"
  },
  "language_info": {
   "codemirror_mode": {
    "name": "ipython",
    "version": 3
   },
   "file_extension": ".py",
   "mimetype": "text/x-python",
   "name": "python",
   "nbconvert_exporter": "python",
   "pygments_lexer": "ipython3",
   "version": "3.8.8"
  }
 },
 "nbformat": 4,
 "nbformat_minor": 5
}
