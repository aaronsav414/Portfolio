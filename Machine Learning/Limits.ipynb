{
 "cells": [
  {
   "cell_type": "code",
   "execution_count": 1,
   "id": "6677201f-66dd-49a9-9448-ea8feb2d2842",
   "metadata": {},
   "outputs": [],
   "source": [
    "import numpy as np\n",
    "import torch\n",
    "import matplotlib.pyplot as plt\n",
    "from scipy.linalg import sqrtm"
   ]
  },
  {
   "cell_type": "code",
   "execution_count": 11,
   "id": "2a7bd765-7218-4831-994c-def99bcfff59",
   "metadata": {},
   "outputs": [],
   "source": [
    "x = np.linspace(-10, 10, 10000)"
   ]
  },
  {
   "cell_type": "code",
   "execution_count": 16,
   "id": "10a5a3a0-158c-4777-b4b0-22a2701c9be7",
   "metadata": {},
   "outputs": [],
   "source": [
    "def inf_fxn(my_x):\n",
    "    my_y = 25/my_x\n",
    "    return my_y"
   ]
  },
  {
   "cell_type": "code",
   "execution_count": 25,
   "id": "d0add089-432d-4aca-8163-55f33563a54f",
   "metadata": {},
   "outputs": [
    {
     "data": {
      "text/plain": [
       "0.0"
      ]
     },
     "execution_count": 25,
     "metadata": {},
     "output_type": "execute_result"
    }
   ],
   "source": [
    "inf_fxn(np.inf) "
   ]
  },
  {
   "cell_type": "code",
   "execution_count": 26,
   "id": "2c838533-608a-410f-ada9-79020a767855",
   "metadata": {},
   "outputs": [],
   "source": [
    "y = inf_fxn(x)"
   ]
  },
  {
   "cell_type": "code",
   "execution_count": 27,
   "id": "47362e36-1f22-4874-8f0f-c6316047d501",
   "metadata": {},
   "outputs": [
    {
     "data": {
      "image/png": "[encoded data removed]",
      "text/plain": [
       "<Figure size 432x288 with 1 Axes>"
      ]
     },
     "metadata": {
      "needs_background": "light"
     },
     "output_type": "display_data"
    }
   ],
   "source": [
    "fig, ax = plt.subplots()\n",
    "plt.axvline(x=0, color='lightgray')\n",
    "plt.axhline(y=0, color='lightgray')\n",
    "plt.xlim(-10, 10)\n",
    "plt.ylim(-300, 300)\n",
    "_ = ax.plot(x, y)"
   ]
  },
  {
   "cell_type": "code",
   "execution_count": 28,
   "id": "49b9d451-2a97-42a1-8b76-d375e73e5b14",
   "metadata": {},
   "outputs": [],
   "source": [
    "left_x = x[x<0]\n",
    "right_x = x[x>0]"
   ]
  },
  {
   "cell_type": "code",
   "execution_count": 29,
   "id": "39c27476-0629-47c3-aa7e-de295f39e8e4",
   "metadata": {},
   "outputs": [],
   "source": [
    "left_y = inf_fxn(left_x)\n",
    "right_y = inf_fxn(right_x)"
   ]
  },
  {
   "cell_type": "code",
   "execution_count": 30,
   "id": "b6335f0f-6cd5-4ea0-bb13-2c218a16b75f",
   "metadata": {},
   "outputs": [
    {
     "data": {
      "image/png": "[encoded data removed]",
      "text/plain": [
       "<Figure size 432x288 with 1 Axes>"
      ]
     },
     "metadata": {
      "needs_background": "light"
     },
     "output_type": "display_data"
    }
   ],
   "source": [
    "fig, ax = plt.subplots()\n",
    "plt.axvline(x=0, color='lightgray')\n",
    "plt.axhline(y=0, color='lightgray')\n",
    "plt.xlim(-10, 10)\n",
    "plt.ylim(-300, 300)\n",
    "ax.plot(left_x, left_y, c='C0')\n",
    "_ = ax.plot(right_x, right_y, c='C0')"
   ]
  },
  {
   "cell_type": "code",
   "execution_count": 3,
   "id": "d609d322-19c1-431d-aac9-d02e7a15f7d8",
   "metadata": {},
   "outputs": [],
   "source": [
    "def diff(my_x):\n",
    "    my_y = -5 * (my_x ** 3)\n",
    "    return my_y"
   ]
  },
  {
   "cell_type": "code",
   "execution_count": 4,
   "id": "05ce02e1-8804-45be-a7b0-383f9642030a",
   "metadata": {},
   "outputs": [],
   "source": [
    "deltas = [1, 0.1, 0.01, 0.001, 0.0001, 0.00001, 0.000001]"
   ]
  },
  {
   "cell_type": "code",
   "execution_count": 5,
   "id": "841a10fb-366e-47b7-add8-f1a448f3addc",
   "metadata": {},
   "outputs": [
    {
     "name": "stdout",
     "output_type": "stream",
     "text": [
      "-5\n",
      "-0.005000000000000001\n",
      "-5.000000000000001e-06\n",
      "-5e-09\n",
      "-5.0000000000000005e-12\n",
      "-5.0000000000000016e-15\n",
      "-4.9999999999999996e-18\n"
     ]
    }
   ],
   "source": [
    "for delta in deltas:\n",
    "    print(diff(delta))"
   ]
  },
  {
   "cell_type": "code",
   "execution_count": null,
   "id": "24f1b1b0-76a9-4c8a-8dd7-3ef3d904aa51",
   "metadata": {},
   "outputs": [],
   "source": []
  }
 ],
 "metadata": {
  "kernelspec": {
   "display_name": "Python 3",
   "language": "python",
   "name": "python3"
  },
  "language_info": {
   "codemirror_mode": {
    "name": "ipython",
    "version": 3
   },
   "file_extension": ".py",
   "mimetype": "text/x-python",
   "name": "python",
   "nbconvert_exporter": "python",
   "pygments_lexer": "ipython3",
   "version": "3.8.8"
  }
 },
 "nbformat": 4,
 "nbformat_minor": 5
}
